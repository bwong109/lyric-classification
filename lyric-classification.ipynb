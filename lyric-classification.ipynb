{
 "cells": [
  {
   "cell_type": "code",
   "execution_count": null,
   "id": "46ba1395",
   "metadata": {},
   "outputs": [],
   "source": [
    "import pandas as pd\n",
    "import nltk\n",
    "import numpy as np\n",
    "import pickle as pkl\n",
    "\n",
    "from gensim.models.fasttext import load_facebook_vectors\n",
    "from nltk.tokenize import word_tokenize\n",
    "\n",
    "from sklearn.model_selection import GridSearchCV\n",
    "\n",
    "from sklearn.svm import SVC "
   ]
  },
  {
   "cell_type": "code",
   "execution_count": null,
   "id": "83e37760",
   "metadata": {},
   "outputs": [],
   "source": [
    "songs = pd.read_csv(\"../resource/asnlib/publicdata/SingleLabel.csv\")\n",
    "songs"
   ]
  },
  {
   "cell_type": "code",
   "execution_count": null,
   "id": "07027546",
   "metadata": {},
   "outputs": [],
   "source": [
    "with open(\"../resource/asnlib/publicdata/subset.pkl\", \"rb\") as f:\n",
    "    embeddings = pkl.load(f)\n",
    "embeddings"
   ]
  },
  {
   "cell_type": "code",
   "execution_count": null,
   "id": "54b3b137",
   "metadata": {},
   "outputs": [],
   "source": [
    "from nltk.corpus import stopwords\n",
    "nltk.download('punkt')\n",
    "nltk.download('stopwords')\n",
    "\n",
    "def preprocess_text(text):\n",
    "    tokens = word_tokenize(text)\n",
    "    tokens = [word.lower() for word in tokens]\n",
    "    stop_words = set(stopwords.words('english'))\n",
    "    tokens = [word for word in tokens if word not in stop_words]\n",
    "    return tokens\n",
    "\n",
    "songs['lyrics'] = songs['lyrics'].apply(preprocess_text)\n",
    "song_words = songs['lyrics'].tolist()"
   ]
  },
  {
   "cell_type": "code",
   "execution_count": null,
   "id": "402fd000",
   "metadata": {},
   "outputs": [],
   "source": [
    "with open('subset.pkl', 'rb') as f:\n",
    "    word_embeddings = pkl.load(f)\n",
    "\n",
    "def calculate_avg_word_vector(lyrics, word_embeddings):\n",
    "    num_features = len(next(iter(word_embeddings.values())))\n",
    "    avg_vector = np.zeros(num_features)\n",
    "    num_words = 0\n",
    "    \n",
    "    for word in lyrics:\n",
    "        if word in word_embeddings:\n",
    "            avg_vector += word_embeddings[word]\n",
    "            num_words += 1\n",
    "    \n",
    "    if num_words > 0:\n",
    "        avg_vector /= num_words\n",
    "    \n",
    "    return avg_vector\n",
    "\n",
    "song_embeddings = []\n",
    "for lyrics in song_words:\n",
    "    avg_word_vector = calculate_avg_word_vector(lyrics, word_embeddings)\n",
    "    song_embeddings.append(avg_word_vector)\n",
    "\n",
    "X = np.array(song_embeddings)"
   ]
  },
  {
   "cell_type": "code",
   "execution_count": null,
   "id": "285fdf80",
   "metadata": {},
   "outputs": [],
   "source": [
    "param_grid = {'C': [0.00001, 0.0001, 0.001, 0.01, 0.1, 1],\n",
    "              'gamma': [0.00001, 0.00005, 0.0001, 0.0005, 0.001, 0.005],\n",
    "              'kernel': ['poly', 'rbf']}\n",
    "\n",
    "svm = SVC()\n",
    "\n",
    "grid_search = GridSearchCV(estimator=svm, param_grid=param_grid, cv=5, scoring='accuracy', verbose=2, n_jobs=-1)\n",
    "grid_search.fit(X, songs['label'])\n",
    "\n",
    "print(\"Best Parameters:\", grid_search.best_params_)\n",
    "\n",
    "accuracy = grid_search.best_score_\n",
    "print(\"Accuracy of the best model:\", accuracy)\n",
    "\n",
    "best_model = grid_search.best_estimator_\n",
    "\n",
    "n_vecs = np.sum(best_model.n_support_)\n",
    "print(\"Number of support vectors:\", n_vecs)\n"
   ]
  }
 ],
 "metadata": {
  "kernelspec": {
   "display_name": "Python 3 (ipykernel)",
   "language": "python",
   "name": "python3"
  },
  "language_info": {
   "codemirror_mode": {
    "name": "ipython",
    "version": 3
   },
   "file_extension": ".py",
   "mimetype": "text/x-python",
   "name": "python",
   "nbconvert_exporter": "python",
   "pygments_lexer": "ipython3",
   "version": "3.11.4"
  }
 },
 "nbformat": 4,
 "nbformat_minor": 5
}
